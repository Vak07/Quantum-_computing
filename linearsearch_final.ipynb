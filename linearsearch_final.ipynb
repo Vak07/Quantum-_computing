{
 "cells": [
  {
   "cell_type": "code",
   "execution_count": 5,
   "id": "89e37f22",
   "metadata": {
    "scrolled": false
   },
   "outputs": [
    {
     "name": "stdout",
     "output_type": "stream",
     "text": [
      "Enter the column name to search: PRIMARY TYPE\n",
      "Enter the value in column 'PRIMARY TYPE' to search: BATTERY\n",
      "Rows containing 'BATTERY' in column 'PRIMARY TYPE':\n"
     ]
    },
    {
     "name": "stderr",
     "output_type": "stream",
     "text": [
      "IOPub data rate exceeded.\n",
      "The notebook server will temporarily stop sending output\n",
      "to the client in order to avoid crashing it.\n",
      "To change this limit, set the config variable\n",
      "`--NotebookApp.iopub_data_rate_limit`.\n",
      "\n",
      "Current values:\n",
      "NotebookApp.iopub_data_rate_limit=1000000.0 (bytes/sec)\n",
      "NotebookApp.rate_limit_window=3.0 (secs)\n",
      "\n"
     ]
    }
   ],
   "source": [
    "import csv\n",
    "import pandas as pd\n",
    "import time\n",
    "\n",
    "start_time = time.time()\n",
    "\n",
    "def search_case(csv_file, search_column, case_value):\n",
    "    # Load CSV file into a DataFrame\n",
    "    df = pd.read_csv(csv_file, encoding='utf-8')\n",
    "\n",
    "    # Convert column names to lowercase for case-insensitive comparison\n",
    "    df.columns = df.columns.str.lower()\n",
    "\n",
    "    # Check if the specified search column is in the DataFrame\n",
    "    if search_column.lower() not in df.columns:\n",
    "        print(f\"Column '{search_column}' not found in the CSV file.\")\n",
    "        return\n",
    "\n",
    "    # Filter rows based on the specified condition\n",
    "    matching_rows = df[df[search_column.lower()].str.lower() == case_value.lower()]\n",
    "\n",
    "    if not matching_rows.empty:\n",
    "        print(f\"Rows containing '{case_value}' in column '{search_column}':\")\n",
    "        print(matching_rows.to_string(index=False))\n",
    "    else:\n",
    "        print(f\"No cases with '{case_value}' found in the specified column '{search_column}'.\")\n",
    "\n",
    "# Example usage:\n",
    "csv_file_path = \"chicago_crime.csv\"  # Replace with the actual path to your CSV file\n",
    "\n",
    "# Get user input for search column and case value\n",
    "search_column = input(\"Enter the column name to search: \")\n",
    "case_value = input(f\"Enter the value in column '{search_column}' to search: \")\n",
    "\n",
    "search_case(csv_file_path, search_column, case_value)\n",
    "\n",
    "end_time = time.time()\n",
    "elapsed_time = end_time - start_time\n",
    "print(f\"Runtime: {elapsed_time} ms\")\n",
    "\n"
   ]
  },
  {
   "cell_type": "code",
   "execution_count": null,
   "id": "1fac243a",
   "metadata": {},
   "outputs": [],
   "source": []
  },
  {
   "cell_type": "code",
   "execution_count": null,
   "id": "8bfa9f99",
   "metadata": {},
   "outputs": [],
   "source": []
  }
 ],
 "metadata": {
  "kernelspec": {
   "display_name": "Python 3 (ipykernel)",
   "language": "python",
   "name": "python3"
  },
  "language_info": {
   "codemirror_mode": {
    "name": "ipython",
    "version": 3
   },
   "file_extension": ".py",
   "mimetype": "text/x-python",
   "name": "python",
   "nbconvert_exporter": "python",
   "pygments_lexer": "ipython3",
   "version": "3.10.10"
  }
 },
 "nbformat": 4,
 "nbformat_minor": 5
}
